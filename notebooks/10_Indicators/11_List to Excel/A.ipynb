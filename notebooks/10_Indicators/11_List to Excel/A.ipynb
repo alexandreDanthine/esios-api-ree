{
 "cells": [
  {
   "cell_type": "markdown",
   "id": "7a615e0e-bb7d-41cd-a3e0-05047d36a716",
   "metadata": {
    "papermill": {
     "duration": 0.00255,
     "end_time": "2024-05-08T12:16:54.220230",
     "exception": false,
     "start_time": "2024-05-08T12:16:54.217680",
     "status": "completed"
    },
    "tags": []
   },
   "source": [
    "# Download List of Indicators"
   ]
  },
  {
   "cell_type": "markdown",
   "id": "9548f08d-16ff-4967-9c40-a49c43a57f00",
   "metadata": {
    "papermill": {
     "duration": 0.002123,
     "end_time": "2024-05-08T12:16:54.224534",
     "exception": false,
     "start_time": "2024-05-08T12:16:54.222411",
     "status": "completed"
    },
    "tags": []
   },
   "source": [
    "## Set up your credentials in a dictionary\n",
    "\n",
    "> You need to substitue the token (code) you [should have requested to ESIOS by email](https://share.cleanshot.com/2bWZ42LS) instead of 'YOUR_TOKEN' (as below)."
   ]
  },
  {
   "cell_type": "code",
   "execution_count": 1,
   "id": "2244ed5e-0c4a-43cd-85d0-cf6370109348",
   "metadata": {
    "execution": {
     "iopub.execute_input": "2024-05-08T12:16:54.229228Z",
     "iopub.status.busy": "2024-05-08T12:16:54.228989Z",
     "iopub.status.idle": "2024-05-08T12:16:54.235725Z",
     "shell.execute_reply": "2024-05-08T12:16:54.235256Z"
    },
    "papermill": {
     "duration": 0.010883,
     "end_time": "2024-05-08T12:16:54.237156",
     "exception": false,
     "start_time": "2024-05-08T12:16:54.226273",
     "status": "completed"
    },
    "tags": [
     "change-false"
    ]
   },
   "outputs": [],
   "source": [
    "TOKEN = '273695bb4f30b8ab8de054a0410ee2a9d09c97a5006e3a07c27615e6c60888a7'\n",
    "\n",
    "headers = {\n",
    "    'Host': 'api.esios.ree.es',\n",
    "    'x-api-key': TOKEN\n",
    "}"
   ]
  },
  {
   "cell_type": "markdown",
   "id": "1113d155-9c37-4f82-8640-d103879d0be7",
   "metadata": {
    "papermill": {
     "duration": 0.015107,
     "end_time": "2024-05-08T12:16:54.254768",
     "exception": false,
     "start_time": "2024-05-08T12:16:54.239661",
     "status": "completed"
    },
    "tags": []
   },
   "source": [
    "## Request the indicators list\n",
    "\n",
    "https://api.esios.ree.es/"
   ]
  },
  {
   "cell_type": "code",
   "execution_count": null,
   "id": "df034fb1-359f-4ceb-9999-c4cf445457a5",
   "metadata": {
    "execution": {
     "iopub.execute_input": "2024-05-08T12:16:54.260325Z",
     "iopub.status.busy": "2024-05-08T12:16:54.259953Z",
     "iopub.status.idle": "2024-05-08T12:16:54.266160Z",
     "shell.execute_reply": "2024-05-08T12:16:54.265130Z"
    },
    "papermill": {
     "duration": 0.011073,
     "end_time": "2024-05-08T12:16:54.267507",
     "exception": false,
     "start_time": "2024-05-08T12:16:54.256434",
     "status": "completed"
    },
    "tags": []
   },
   "outputs": [
    {
     "data": {
      "text/plain": [
       "'https://api.esios.ree.es/indicators'"
      ]
     },
     "execution_count": null,
     "metadata": {},
     "output_type": "execute_result"
    }
   ],
   "source": []
  },
  {
   "cell_type": "code",
   "execution_count": null,
   "id": "9ab6736c-de5f-43ce-994c-1a1792080d87",
   "metadata": {
    "execution": {
     "iopub.execute_input": "2024-05-08T12:16:54.271921Z",
     "iopub.status.busy": "2024-05-08T12:16:54.271472Z",
     "iopub.status.idle": "2024-05-08T12:16:54.465743Z",
     "shell.execute_reply": "2024-05-08T12:16:54.465349Z"
    },
    "papermill": {
     "duration": 0.198269,
     "end_time": "2024-05-08T12:16:54.467398",
     "exception": false,
     "start_time": "2024-05-08T12:16:54.269129",
     "status": "completed"
    },
    "tags": []
   },
   "outputs": [],
   "source": []
  },
  {
   "cell_type": "markdown",
   "id": "8b6d79ed-3900-432a-83a9-fb72751d4836",
   "metadata": {
    "papermill": {
     "duration": 0.001589,
     "end_time": "2024-05-08T12:16:54.471170",
     "exception": false,
     "start_time": "2024-05-08T12:16:54.469581",
     "status": "completed"
    },
    "tags": []
   },
   "source": [
    "## Get the `JSON`"
   ]
  },
  {
   "cell_type": "code",
   "execution_count": null,
   "id": "11b61c53-6fb9-4cb1-8005-beb805da2f38",
   "metadata": {
    "execution": {
     "iopub.execute_input": "2024-05-08T12:16:54.474736Z",
     "iopub.status.busy": "2024-05-08T12:16:54.474484Z",
     "iopub.status.idle": "2024-05-08T12:16:54.482887Z",
     "shell.execute_reply": "2024-05-08T12:16:54.482579Z"
    },
    "papermill": {
     "duration": 0.011357,
     "end_time": "2024-05-08T12:16:54.483758",
     "exception": false,
     "start_time": "2024-05-08T12:16:54.472401",
     "status": "completed"
    },
    "tags": []
   },
   "outputs": [],
   "source": []
  },
  {
   "cell_type": "markdown",
   "id": "4729c2a2-899c-430c-acf0-8a8988aa0111",
   "metadata": {
    "papermill": {
     "duration": 0.001114,
     "end_time": "2024-05-08T12:16:54.486126",
     "exception": false,
     "start_time": "2024-05-08T12:16:54.485012",
     "status": "completed"
    },
    "tags": []
   },
   "source": [
    "## Create a `DataFrame`"
   ]
  },
  {
   "cell_type": "code",
   "execution_count": null,
   "id": "53761074-291f-42fb-a60e-e5475e8ffbcf",
   "metadata": {
    "execution": {
     "iopub.execute_input": "2024-05-08T12:16:54.489423Z",
     "iopub.status.busy": "2024-05-08T12:16:54.489265Z",
     "iopub.status.idle": "2024-05-08T12:16:54.496547Z",
     "shell.execute_reply": "2024-05-08T12:16:54.496266Z"
    },
    "papermill": {
     "duration": 0.010099,
     "end_time": "2024-05-08T12:16:54.497418",
     "exception": false,
     "start_time": "2024-05-08T12:16:54.487319",
     "status": "completed"
    },
    "tags": []
   },
   "outputs": [
    {
     "data": {
      "text/html": [
       "<div>\n",
       "<style scoped>\n",
       "    .dataframe tbody tr th:only-of-type {\n",
       "        vertical-align: middle;\n",
       "    }\n",
       "\n",
       "    .dataframe tbody tr th {\n",
       "        vertical-align: top;\n",
       "    }\n",
       "\n",
       "    .dataframe thead th {\n",
       "        text-align: right;\n",
       "    }\n",
       "</style>\n",
       "<table border=\"1\" class=\"dataframe\">\n",
       "  <thead>\n",
       "    <tr style=\"text-align: right;\">\n",
       "      <th></th>\n",
       "      <th>name</th>\n",
       "      <th>description</th>\n",
       "      <th>short_name</th>\n",
       "      <th>id</th>\n",
       "    </tr>\n",
       "  </thead>\n",
       "  <tbody>\n",
       "    <tr>\n",
       "      <th>0</th>\n",
       "      <td>Generación programada PBF Hidráulica UGH</td>\n",
       "      <td>&lt;p&gt;Es el programa de energía diario, con desgl...</td>\n",
       "      <td>Hidráulica UGH</td>\n",
       "      <td>1</td>\n",
       "    </tr>\n",
       "    <tr>\n",
       "      <th>1</th>\n",
       "      <td>Generación programada PBF Hidráulica no UGH</td>\n",
       "      <td>&lt;p&gt;Es el programa de energía diario, con desgl...</td>\n",
       "      <td>Hidráulica no UGH</td>\n",
       "      <td>2</td>\n",
       "    </tr>\n",
       "    <tr>\n",
       "      <th>...</th>\n",
       "      <td>...</td>\n",
       "      <td>...</td>\n",
       "      <td>...</td>\n",
       "      <td>...</td>\n",
       "    </tr>\n",
       "    <tr>\n",
       "      <th>1937</th>\n",
       "      <td>RD-L 10/2022 restricciones técnicas y mercados...</td>\n",
       "      <td>&lt;p&gt;RD-L 10/2022 restricciones t&amp;eacute;cnicas ...</td>\n",
       "      <td>Mercado diario e intradiario</td>\n",
       "      <td>10411</td>\n",
       "    </tr>\n",
       "    <tr>\n",
       "      <th>1938</th>\n",
       "      <td>Precio medio ponderado de activación del servi...</td>\n",
       "      <td>&lt;p&gt; Es un servicio específico de balance del s...</td>\n",
       "      <td>Precio medio ponderado de activación del servi...</td>\n",
       "      <td>10412</td>\n",
       "    </tr>\n",
       "  </tbody>\n",
       "</table>\n",
       "<p>1939 rows × 4 columns</p>\n",
       "</div>"
      ],
      "text/plain": [
       "                                                   name  \\\n",
       "0              Generación programada PBF Hidráulica UGH   \n",
       "1           Generación programada PBF Hidráulica no UGH   \n",
       "...                                                 ...   \n",
       "1937  RD-L 10/2022 restricciones técnicas y mercados...   \n",
       "1938  Precio medio ponderado de activación del servi...   \n",
       "\n",
       "                                            description  \\\n",
       "0     <p>Es el programa de energía diario, con desgl...   \n",
       "1     <p>Es el programa de energía diario, con desgl...   \n",
       "...                                                 ...   \n",
       "1937  <p>RD-L 10/2022 restricciones t&eacute;cnicas ...   \n",
       "1938  <p> Es un servicio específico de balance del s...   \n",
       "\n",
       "                                             short_name     id  \n",
       "0                                        Hidráulica UGH      1  \n",
       "1                                     Hidráulica no UGH      2  \n",
       "...                                                 ...    ...  \n",
       "1937                       Mercado diario e intradiario  10411  \n",
       "1938  Precio medio ponderado de activación del servi...  10412  \n",
       "\n",
       "[1939 rows x 4 columns]"
      ]
     },
     "execution_count": null,
     "metadata": {},
     "output_type": "execute_result"
    }
   ],
   "source": []
  },
  {
   "cell_type": "markdown",
   "id": "c84fa189-7e81-4644-be70-b7c753e8c657",
   "metadata": {
    "papermill": {
     "duration": 0.001178,
     "end_time": "2024-05-08T12:16:54.500126",
     "exception": false,
     "start_time": "2024-05-08T12:16:54.498948",
     "status": "completed"
    },
    "tags": []
   },
   "source": [
    "### Set the `id` column as the index"
   ]
  },
  {
   "cell_type": "code",
   "execution_count": null,
   "id": "5c25a982-79b9-4c26-9657-ab147229a1f7",
   "metadata": {
    "execution": {
     "iopub.execute_input": "2024-05-08T12:16:54.503033Z",
     "iopub.status.busy": "2024-05-08T12:16:54.502917Z",
     "iopub.status.idle": "2024-05-08T12:16:54.506833Z",
     "shell.execute_reply": "2024-05-08T12:16:54.506606Z"
    },
    "papermill": {
     "duration": 0.006259,
     "end_time": "2024-05-08T12:16:54.507496",
     "exception": false,
     "start_time": "2024-05-08T12:16:54.501237",
     "status": "completed"
    },
    "tags": []
   },
   "outputs": [
    {
     "data": {
      "text/html": [
       "<div>\n",
       "<style scoped>\n",
       "    .dataframe tbody tr th:only-of-type {\n",
       "        vertical-align: middle;\n",
       "    }\n",
       "\n",
       "    .dataframe tbody tr th {\n",
       "        vertical-align: top;\n",
       "    }\n",
       "\n",
       "    .dataframe thead th {\n",
       "        text-align: right;\n",
       "    }\n",
       "</style>\n",
       "<table border=\"1\" class=\"dataframe\">\n",
       "  <thead>\n",
       "    <tr style=\"text-align: right;\">\n",
       "      <th></th>\n",
       "      <th>name</th>\n",
       "      <th>description</th>\n",
       "      <th>short_name</th>\n",
       "    </tr>\n",
       "    <tr>\n",
       "      <th>id</th>\n",
       "      <th></th>\n",
       "      <th></th>\n",
       "      <th></th>\n",
       "    </tr>\n",
       "  </thead>\n",
       "  <tbody>\n",
       "    <tr>\n",
       "      <th>1</th>\n",
       "      <td>Generación programada PBF Hidráulica UGH</td>\n",
       "      <td>&lt;p&gt;Es el programa de energía diario, con desgl...</td>\n",
       "      <td>Hidráulica UGH</td>\n",
       "    </tr>\n",
       "    <tr>\n",
       "      <th>2</th>\n",
       "      <td>Generación programada PBF Hidráulica no UGH</td>\n",
       "      <td>&lt;p&gt;Es el programa de energía diario, con desgl...</td>\n",
       "      <td>Hidráulica no UGH</td>\n",
       "    </tr>\n",
       "    <tr>\n",
       "      <th>...</th>\n",
       "      <td>...</td>\n",
       "      <td>...</td>\n",
       "      <td>...</td>\n",
       "    </tr>\n",
       "    <tr>\n",
       "      <th>10411</th>\n",
       "      <td>RD-L 10/2022 restricciones técnicas y mercados...</td>\n",
       "      <td>&lt;p&gt;RD-L 10/2022 restricciones t&amp;eacute;cnicas ...</td>\n",
       "      <td>Mercado diario e intradiario</td>\n",
       "    </tr>\n",
       "    <tr>\n",
       "      <th>10412</th>\n",
       "      <td>Precio medio ponderado de activación del servi...</td>\n",
       "      <td>&lt;p&gt; Es un servicio específico de balance del s...</td>\n",
       "      <td>Precio medio ponderado de activación del servi...</td>\n",
       "    </tr>\n",
       "  </tbody>\n",
       "</table>\n",
       "<p>1939 rows × 3 columns</p>\n",
       "</div>"
      ],
      "text/plain": [
       "                                                    name  \\\n",
       "id                                                         \n",
       "1               Generación programada PBF Hidráulica UGH   \n",
       "2            Generación programada PBF Hidráulica no UGH   \n",
       "...                                                  ...   \n",
       "10411  RD-L 10/2022 restricciones técnicas y mercados...   \n",
       "10412  Precio medio ponderado de activación del servi...   \n",
       "\n",
       "                                             description  \\\n",
       "id                                                         \n",
       "1      <p>Es el programa de energía diario, con desgl...   \n",
       "2      <p>Es el programa de energía diario, con desgl...   \n",
       "...                                                  ...   \n",
       "10411  <p>RD-L 10/2022 restricciones t&eacute;cnicas ...   \n",
       "10412  <p> Es un servicio específico de balance del s...   \n",
       "\n",
       "                                              short_name  \n",
       "id                                                        \n",
       "1                                         Hidráulica UGH  \n",
       "2                                      Hidráulica no UGH  \n",
       "...                                                  ...  \n",
       "10411                       Mercado diario e intradiario  \n",
       "10412  Precio medio ponderado de activación del servi...  \n",
       "\n",
       "[1939 rows x 3 columns]"
      ]
     },
     "execution_count": null,
     "metadata": {},
     "output_type": "execute_result"
    }
   ],
   "source": []
  },
  {
   "cell_type": "markdown",
   "id": "29c57096-2ecc-4e9b-a05e-e6ba823099af",
   "metadata": {
    "papermill": {
     "duration": 0.001044,
     "end_time": "2024-05-08T12:16:54.509736",
     "exception": false,
     "start_time": "2024-05-08T12:16:54.508692",
     "status": "completed"
    },
    "tags": []
   },
   "source": [
    "### Save the *styled* `DataFrame` to a new variable"
   ]
  },
  {
   "cell_type": "code",
   "execution_count": null,
   "id": "a9d29169-3552-4778-bfb0-8ed689483097",
   "metadata": {
    "execution": {
     "iopub.execute_input": "2024-05-08T12:16:54.512702Z",
     "iopub.status.busy": "2024-05-08T12:16:54.512504Z",
     "iopub.status.idle": "2024-05-08T12:16:54.709077Z",
     "shell.execute_reply": "2024-05-08T12:16:54.708809Z"
    },
    "papermill": {
     "duration": 0.199059,
     "end_time": "2024-05-08T12:16:54.709934",
     "exception": false,
     "start_time": "2024-05-08T12:16:54.510875",
     "status": "completed"
    },
    "tags": []
   },
   "outputs": [],
   "source": []
  },
  {
   "cell_type": "markdown",
   "id": "361580f3-855d-4d0c-afb7-98819ff7455b",
   "metadata": {
    "papermill": {
     "duration": 0.001262,
     "end_time": "2024-05-08T12:16:54.712597",
     "exception": false,
     "start_time": "2024-05-08T12:16:54.711335",
     "status": "completed"
    },
    "tags": []
   },
   "source": [
    "### Export the `DataFrame` to an Excel"
   ]
  },
  {
   "cell_type": "code",
   "execution_count": null,
   "id": "775ab6f2-25ca-4d9b-9f02-f706e6d1164a",
   "metadata": {
    "execution": {
     "iopub.execute_input": "2024-05-08T12:16:54.715663Z",
     "iopub.status.busy": "2024-05-08T12:16:54.715475Z",
     "iopub.status.idle": "2024-05-08T12:16:54.913986Z",
     "shell.execute_reply": "2024-05-08T12:16:54.913712Z"
    },
    "papermill": {
     "duration": 0.20129,
     "end_time": "2024-05-08T12:16:54.915026",
     "exception": false,
     "start_time": "2024-05-08T12:16:54.713736",
     "status": "completed"
    },
    "tags": []
   },
   "outputs": [],
   "source": []
  }
 ],
 "metadata": {
  "kernelspec": {
   "display_name": "Python 3 (ipykernel)",
   "language": "python",
   "name": "python3"
  },
  "language_info": {
   "codemirror_mode": {
    "name": "ipython",
    "version": 3
   },
   "file_extension": ".py",
   "mimetype": "text/x-python",
   "name": "python",
   "nbconvert_exporter": "python",
   "pygments_lexer": "ipython3",
   "version": "3.12.2"
  },
  "papermill": {
   "default_parameters": {},
   "duration": 2.021789,
   "end_time": "2024-05-08T12:16:55.131466",
   "environment_variables": {},
   "exception": null,
   "input_path": "/Users/sota/Dropbox/2 Business/1 Datons/2 Areas/Courses/ESIOS-API/materials/notebooks/10_Indicators/11_List to Excel/B.ipynb",
   "output_path": "/Users/sota/Dropbox/2 Business/1 Datons/2 Areas/Courses/ESIOS-API/materials/notebooks/10_Indicators/11_List to Excel/B.ipynb",
   "parameters": {},
   "start_time": "2024-05-08T12:16:53.109677",
   "version": "2.5.0"
  },
  "toc-autonumbering": true
 },
 "nbformat": 4,
 "nbformat_minor": 5
}
