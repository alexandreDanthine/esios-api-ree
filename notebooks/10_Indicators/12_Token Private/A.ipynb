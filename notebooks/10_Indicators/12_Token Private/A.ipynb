{
 "cells": [
  {
   "cell_type": "markdown",
   "id": "e5e775d9-fef7-440d-9063-1fe346b8060a",
   "metadata": {
    "papermill": {
     "duration": 0.002011,
     "end_time": "2024-05-08T12:16:57.799661",
     "exception": false,
     "start_time": "2024-05-08T12:16:57.797650",
     "status": "completed"
    },
    "tags": []
   },
   "source": [
    "# Keep Token Private"
   ]
  },
  {
   "cell_type": "markdown",
   "id": "e44e64a2-e310-4b6b-9ef2-770c840d7dec",
   "metadata": {
    "papermill": {
     "duration": 0.001073,
     "end_time": "2024-05-08T12:16:57.802276",
     "exception": false,
     "start_time": "2024-05-08T12:16:57.801203",
     "status": "completed"
    },
    "tags": []
   },
   "source": [
    "## Create the dictionary with the credentials\n",
    "\n",
    "> You need to substitue the token (code) you [should have requested to ESIOS by email](https://share.cleanshot.com/2bWZ42LS) instead of 'YOUR_TOKEN' (as below)."
   ]
  },
  {
   "cell_type": "code",
   "execution_count": null,
   "id": "e7197b62-1ab5-4aa8-a38d-1b2a840eff64",
   "metadata": {
    "execution": {
     "iopub.execute_input": "2024-05-08T12:16:57.805083Z",
     "iopub.status.busy": "2024-05-08T12:16:57.804880Z",
     "iopub.status.idle": "2024-05-08T12:16:57.807998Z",
     "shell.execute_reply": "2024-05-08T12:16:57.807672Z"
    },
    "papermill": {
     "duration": 0.005889,
     "end_time": "2024-05-08T12:16:57.809034",
     "exception": false,
     "start_time": "2024-05-08T12:16:57.803145",
     "status": "completed"
    },
    "tags": []
   },
   "outputs": [],
   "source": []
  },
  {
   "cell_type": "code",
   "execution_count": null,
   "id": "1236b170",
   "metadata": {
    "execution": {
     "iopub.execute_input": "2024-05-08T12:16:57.811662Z",
     "iopub.status.busy": "2024-05-08T12:16:57.811516Z",
     "iopub.status.idle": "2024-05-08T12:16:57.814984Z",
     "shell.execute_reply": "2024-05-08T12:16:57.814707Z"
    },
    "papermill": {
     "duration": 0.005806,
     "end_time": "2024-05-08T12:16:57.815928",
     "exception": false,
     "start_time": "2024-05-08T12:16:57.810122",
     "status": "completed"
    },
    "tags": []
   },
   "outputs": [
    {
     "data": {
      "text/plain": [
       "{'Host': 'api.esios.ree.es',\n",
       " 'x-api-key': '273695bb4f30b8ab8de054a0410ee2a9d09c97a5006e3a07c27615e6c60888a7'}"
      ]
     },
     "execution_count": null,
     "metadata": {},
     "output_type": "execute_result"
    }
   ],
   "source": []
  },
  {
   "cell_type": "markdown",
   "id": "c529a607-8473-436e-a592-cc17a8f3c1ca",
   "metadata": {
    "papermill": {
     "duration": 0.000816,
     "end_time": "2024-05-08T12:16:57.817812",
     "exception": false,
     "start_time": "2024-05-08T12:16:57.816996",
     "status": "completed"
    },
    "tags": []
   },
   "source": [
    "## Create a json with the headers"
   ]
  },
  {
   "cell_type": "code",
   "execution_count": null,
   "id": "83469ddd-d6b6-442d-9d8f-4a2a4bc6d95e",
   "metadata": {
    "execution": {
     "iopub.execute_input": "2024-05-08T12:16:57.820158Z",
     "iopub.status.busy": "2024-05-08T12:16:57.820024Z",
     "iopub.status.idle": "2024-05-08T12:16:57.821778Z",
     "shell.execute_reply": "2024-05-08T12:16:57.821539Z"
    },
    "papermill": {
     "duration": 0.003881,
     "end_time": "2024-05-08T12:16:57.822515",
     "exception": false,
     "start_time": "2024-05-08T12:16:57.818634",
     "status": "completed"
    },
    "tags": []
   },
   "outputs": [],
   "source": []
  },
  {
   "cell_type": "code",
   "execution_count": null,
   "id": "5b505da4-7212-4b18-bcc4-d8b7aa6c2166",
   "metadata": {
    "execution": {
     "iopub.execute_input": "2024-05-08T12:16:57.824742Z",
     "iopub.status.busy": "2024-05-08T12:16:57.824603Z",
     "iopub.status.idle": "2024-05-08T12:16:57.826510Z",
     "shell.execute_reply": "2024-05-08T12:16:57.826329Z"
    },
    "papermill": {
     "duration": 0.003832,
     "end_time": "2024-05-08T12:16:57.827259",
     "exception": false,
     "start_time": "2024-05-08T12:16:57.823427",
     "status": "completed"
    },
    "tags": []
   },
   "outputs": [],
   "source": []
  },
  {
   "cell_type": "markdown",
   "id": "f18e207a-0311-4bad-b166-7424707d4854",
   "metadata": {
    "papermill": {
     "duration": 0.000766,
     "end_time": "2024-05-08T12:16:57.828839",
     "exception": false,
     "start_time": "2024-05-08T12:16:57.828073",
     "status": "completed"
    },
    "tags": []
   },
   "source": [
    "## Create a new file and execute an example"
   ]
  }
 ],
 "metadata": {
  "kernelspec": {
   "display_name": "Python 3 (ipykernel)",
   "language": "python",
   "name": "python3"
  },
  "language_info": {
   "codemirror_mode": {
    "name": "ipython",
    "version": 3
   },
   "file_extension": ".py",
   "mimetype": "text/x-python",
   "name": "python",
   "nbconvert_exporter": "python",
   "pygments_lexer": "ipython3",
   "version": "3.12.2"
  },
  "papermill": {
   "default_parameters": {},
   "duration": 1.167349,
   "end_time": "2024-05-08T12:16:58.045549",
   "environment_variables": {},
   "exception": null,
   "input_path": "/Users/sota/Dropbox/2 Business/1 Datons/2 Areas/Courses/ESIOS-API/materials/notebooks/10_Indicators/12_Token Private/B.ipynb",
   "output_path": "/Users/sota/Dropbox/2 Business/1 Datons/2 Areas/Courses/ESIOS-API/materials/notebooks/10_Indicators/12_Token Private/B.ipynb",
   "parameters": {},
   "start_time": "2024-05-08T12:16:56.878200",
   "version": "2.5.0"
  },
  "vscode": {
   "interpreter": {
    "hash": "31f2aee4e71d21fbe5cf8b01ff0e069b9275f58929596ceb00d14d90e3e16cd6"
   }
  }
 },
 "nbformat": 4,
 "nbformat_minor": 5
}
