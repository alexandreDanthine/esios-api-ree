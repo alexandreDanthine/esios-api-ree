{
 "cells": [
  {
   "cell_type": "markdown",
   "id": "4ec16ab7-51dd-4a1e-915b-8753b466f925",
   "metadata": {
    "papermill": {
     "duration": 0.008512,
     "end_time": "2024-05-08T12:27:22.239003",
     "exception": false,
     "start_time": "2024-05-08T12:27:22.230491",
     "status": "completed"
    },
    "tags": []
   },
   "source": [
    "# Create Data Visualization for Energy Prices"
   ]
  },
  {
   "cell_type": "markdown",
   "id": "934e31ab-7f39-440d-8972-f0b0fd695396",
   "metadata": {
    "papermill": {
     "duration": 0.003142,
     "end_time": "2024-05-08T12:27:22.245850",
     "exception": false,
     "start_time": "2024-05-08T12:27:22.242708",
     "status": "completed"
    },
    "tags": []
   },
   "source": [
    "https://www.esios.ree.es/es/analisis/10211?vis=1&start_date=01-01-2022T00%3A00&end_date=23-12-2022T23%3A55&compare_start_date=31-12-2021T00%3A00&groupby=day&compare_indicators=805,806,807,808,809,810,811,812,813,814,815,816,1277,10403,1286,1368"
   ]
  },
  {
   "cell_type": "markdown",
   "id": "bc7d8d19-34b7-4b8c-a6f2-6820644647fe",
   "metadata": {
    "papermill": {
     "duration": 0.002527,
     "end_time": "2024-05-08T12:27:22.251370",
     "exception": false,
     "start_time": "2024-05-08T12:27:22.248843",
     "status": "completed"
    },
    "tags": []
   },
   "source": [
    "## Create list with energy prices indicators"
   ]
  },
  {
   "cell_type": "code",
   "execution_count": null,
   "id": "3aee0733-413d-4eed-834d-65de44b223b0",
   "metadata": {
    "execution": {
     "iopub.execute_input": "2024-05-08T12:27:22.257164Z",
     "iopub.status.busy": "2024-05-08T12:27:22.256976Z",
     "iopub.status.idle": "2024-05-08T12:27:22.260155Z",
     "shell.execute_reply": "2024-05-08T12:27:22.259823Z"
    },
    "papermill": {
     "duration": 0.007303,
     "end_time": "2024-05-08T12:27:22.261071",
     "exception": false,
     "start_time": "2024-05-08T12:27:22.253768",
     "status": "completed"
    },
    "tags": []
   },
   "outputs": [],
   "source": []
  },
  {
   "cell_type": "markdown",
   "id": "efc4037a-f180-474c-8695-13c342981849",
   "metadata": {
    "papermill": {
     "duration": 0.002137,
     "end_time": "2024-05-08T12:27:22.265662",
     "exception": false,
     "start_time": "2024-05-08T12:27:22.263525",
     "status": "completed"
    },
    "tags": []
   },
   "source": [
    "## Generate the data with the `esios` library\n",
    "\n",
    "> You may need to change the `esios` library because it's made for p48 generation, not energy prices."
   ]
  },
  {
   "cell_type": "markdown",
   "id": "4e8898a8-9838-45e6-892c-62f18bf29f6e",
   "metadata": {
    "papermill": {
     "duration": 0.002003,
     "end_time": "2024-05-08T12:27:22.269745",
     "exception": false,
     "start_time": "2024-05-08T12:27:22.267742",
     "status": "completed"
    },
    "tags": []
   },
   "source": [
    "### Get the `JSON` for one energy price"
   ]
  },
  {
   "cell_type": "code",
   "execution_count": null,
   "id": "f903c359-10c9-438d-8b13-3fb8ca4aef97",
   "metadata": {
    "execution": {
     "iopub.execute_input": "2024-05-08T12:27:22.279369Z",
     "iopub.status.busy": "2024-05-08T12:27:22.279120Z",
     "iopub.status.idle": "2024-05-08T12:27:22.326038Z",
     "shell.execute_reply": "2024-05-08T12:27:22.325807Z"
    },
    "papermill": {
     "duration": 0.055366,
     "end_time": "2024-05-08T12:27:22.327060",
     "exception": false,
     "start_time": "2024-05-08T12:27:22.271694",
     "status": "completed"
    },
    "tags": []
   },
   "outputs": [],
   "source": []
  },
  {
   "cell_type": "code",
   "execution_count": null,
   "id": "8f95566e-6331-4d96-a265-2b1dfa05340a",
   "metadata": {
    "execution": {
     "iopub.execute_input": "2024-05-08T12:27:22.331758Z",
     "iopub.status.busy": "2024-05-08T12:27:22.331564Z",
     "iopub.status.idle": "2024-05-08T12:27:22.468730Z",
     "shell.execute_reply": "2024-05-08T12:27:22.468390Z"
    },
    "papermill": {
     "duration": 0.140835,
     "end_time": "2024-05-08T12:27:22.469937",
     "exception": false,
     "start_time": "2024-05-08T12:27:22.329102",
     "status": "completed"
    },
    "tags": []
   },
   "outputs": [],
   "source": []
  },
  {
   "cell_type": "markdown",
   "id": "b89b2646-2cf2-43ed-9d4c-8fcfb5ca51cd",
   "metadata": {
    "papermill": {
     "duration": 0.002714,
     "end_time": "2024-05-08T12:27:22.475678",
     "exception": false,
     "start_time": "2024-05-08T12:27:22.472964",
     "status": "completed"
    },
    "tags": []
   },
   "source": [
    "### Process the `DataFrame`"
   ]
  },
  {
   "cell_type": "code",
   "execution_count": null,
   "id": "65ecbd13-7de5-4f38-a667-71bb9044d46f",
   "metadata": {
    "execution": {
     "iopub.execute_input": "2024-05-08T12:27:22.480461Z",
     "iopub.status.busy": "2024-05-08T12:27:22.480249Z",
     "iopub.status.idle": "2024-05-08T12:27:22.521741Z",
     "shell.execute_reply": "2024-05-08T12:27:22.521489Z"
    },
    "papermill": {
     "duration": 0.045012,
     "end_time": "2024-05-08T12:27:22.522781",
     "exception": false,
     "start_time": "2024-05-08T12:27:22.477769",
     "status": "completed"
    },
    "tags": []
   },
   "outputs": [],
   "source": []
  },
  {
   "cell_type": "markdown",
   "id": "87ec0013-9167-4ebc-a9b4-4610814afb35",
   "metadata": {
    "papermill": {
     "duration": 0.001477,
     "end_time": "2024-05-08T12:27:22.526059",
     "exception": false,
     "start_time": "2024-05-08T12:27:22.524582",
     "status": "completed"
    },
    "tags": []
   },
   "source": [
    "### Create an empty list"
   ]
  },
  {
   "cell_type": "code",
   "execution_count": null,
   "id": "9508f361-8285-44bf-8d5c-2ebef64dfc68",
   "metadata": {
    "execution": {
     "iopub.execute_input": "2024-05-08T12:27:22.529712Z",
     "iopub.status.busy": "2024-05-08T12:27:22.529618Z",
     "iopub.status.idle": "2024-05-08T12:27:22.531106Z",
     "shell.execute_reply": "2024-05-08T12:27:22.530887Z"
    },
    "papermill": {
     "duration": 0.004077,
     "end_time": "2024-05-08T12:27:22.531719",
     "exception": false,
     "start_time": "2024-05-08T12:27:22.527642",
     "status": "completed"
    },
    "tags": []
   },
   "outputs": [],
   "source": []
  },
  {
   "cell_type": "markdown",
   "id": "3f854eec-5056-4a42-879e-34dc8aaadb6a",
   "metadata": {
    "papermill": {
     "duration": 0.001552,
     "end_time": "2024-05-08T12:27:22.534707",
     "exception": false,
     "start_time": "2024-05-08T12:27:22.533155",
     "status": "completed"
    },
    "tags": []
   },
   "source": [
    "### Process the data for all indicators"
   ]
  },
  {
   "cell_type": "code",
   "execution_count": null,
   "id": "151fa01d-6d96-4d28-849d-85de95e95b37",
   "metadata": {
    "execution": {
     "iopub.execute_input": "2024-05-08T12:27:22.538155Z",
     "iopub.status.busy": "2024-05-08T12:27:22.538083Z",
     "iopub.status.idle": "2024-05-08T12:27:24.365617Z",
     "shell.execute_reply": "2024-05-08T12:27:24.365174Z"
    },
    "papermill": {
     "duration": 1.830829,
     "end_time": "2024-05-08T12:27:24.367157",
     "exception": false,
     "start_time": "2024-05-08T12:27:22.536328",
     "status": "completed"
    },
    "tags": []
   },
   "outputs": [],
   "source": []
  },
  {
   "cell_type": "markdown",
   "id": "f472bfd3-d1db-4ebc-9550-d8e05fdd4ba9",
   "metadata": {
    "papermill": {
     "duration": 0.002712,
     "end_time": "2024-05-08T12:27:24.373558",
     "exception": false,
     "start_time": "2024-05-08T12:27:24.370846",
     "status": "completed"
    },
    "tags": []
   },
   "source": [
    "### Concat all the `DataFrame`s within the list"
   ]
  },
  {
   "cell_type": "code",
   "execution_count": null,
   "id": "6f8a0f71-fa15-474f-89d0-14dcb93dbdc5",
   "metadata": {
    "execution": {
     "iopub.execute_input": "2024-05-08T12:27:24.379947Z",
     "iopub.status.busy": "2024-05-08T12:27:24.379782Z",
     "iopub.status.idle": "2024-05-08T12:27:24.381735Z",
     "shell.execute_reply": "2024-05-08T12:27:24.381471Z"
    },
    "papermill": {
     "duration": 0.006353,
     "end_time": "2024-05-08T12:27:24.382564",
     "exception": false,
     "start_time": "2024-05-08T12:27:24.376211",
     "status": "completed"
    },
    "tags": []
   },
   "outputs": [],
   "source": []
  },
  {
   "cell_type": "code",
   "execution_count": null,
   "id": "47614d1c-7915-4bfb-883a-8a7fe4e11047",
   "metadata": {
    "execution": {
     "iopub.execute_input": "2024-05-08T12:27:24.387378Z",
     "iopub.status.busy": "2024-05-08T12:27:24.387269Z",
     "iopub.status.idle": "2024-05-08T12:27:24.389979Z",
     "shell.execute_reply": "2024-05-08T12:27:24.389736Z"
    },
    "papermill": {
     "duration": 0.005967,
     "end_time": "2024-05-08T12:27:24.390734",
     "exception": false,
     "start_time": "2024-05-08T12:27:24.384767",
     "status": "completed"
    },
    "tags": []
   },
   "outputs": [],
   "source": []
  },
  {
   "cell_type": "code",
   "execution_count": null,
   "id": "3b2f6b6b-9908-4dd9-96db-141c9914083c",
   "metadata": {
    "execution": {
     "iopub.execute_input": "2024-05-08T12:27:24.395274Z",
     "iopub.status.busy": "2024-05-08T12:27:24.395174Z",
     "iopub.status.idle": "2024-05-08T12:27:24.404185Z",
     "shell.execute_reply": "2024-05-08T12:27:24.403976Z"
    },
    "papermill": {
     "duration": 0.012268,
     "end_time": "2024-05-08T12:27:24.405053",
     "exception": false,
     "start_time": "2024-05-08T12:27:24.392785",
     "status": "completed"
    },
    "tags": []
   },
   "outputs": [],
   "source": []
  },
  {
   "cell_type": "markdown",
   "id": "5b32584a-bdd9-4af1-94f4-b8f8341e9428",
   "metadata": {
    "papermill": {
     "duration": 0.001949,
     "end_time": "2024-05-08T12:27:24.409306",
     "exception": false,
     "start_time": "2024-05-08T12:27:24.407357",
     "status": "completed"
    },
    "tags": []
   },
   "source": [
    "## Compute the daily pricing"
   ]
  },
  {
   "cell_type": "code",
   "execution_count": null,
   "id": "53d94389-346d-40af-b2a5-2ca01f4305f2",
   "metadata": {
    "execution": {
     "iopub.execute_input": "2024-05-08T12:27:24.413556Z",
     "iopub.status.busy": "2024-05-08T12:27:24.413439Z",
     "iopub.status.idle": "2024-05-08T12:27:24.416639Z",
     "shell.execute_reply": "2024-05-08T12:27:24.416437Z"
    },
    "papermill": {
     "duration": 0.006235,
     "end_time": "2024-05-08T12:27:24.417335",
     "exception": false,
     "start_time": "2024-05-08T12:27:24.411100",
     "status": "completed"
    },
    "tags": []
   },
   "outputs": [],
   "source": []
  },
  {
   "cell_type": "markdown",
   "id": "77c3913e-e9d9-4601-91fb-cfddedcec027",
   "metadata": {
    "papermill": {
     "duration": 0.001768,
     "end_time": "2024-05-08T12:27:24.421066",
     "exception": false,
     "start_time": "2024-05-08T12:27:24.419298",
     "status": "completed"
    },
    "tags": []
   },
   "source": [
    "## Melt the daily energy prices `DataFrame`"
   ]
  },
  {
   "cell_type": "code",
   "execution_count": null,
   "id": "1c1323d4-998f-464e-9edc-b3f1540a9732",
   "metadata": {
    "execution": {
     "iopub.execute_input": "2024-05-08T12:27:24.425334Z",
     "iopub.status.busy": "2024-05-08T12:27:24.425227Z",
     "iopub.status.idle": "2024-05-08T12:27:24.430149Z",
     "shell.execute_reply": "2024-05-08T12:27:24.429944Z"
    },
    "papermill": {
     "duration": 0.008067,
     "end_time": "2024-05-08T12:27:24.430871",
     "exception": false,
     "start_time": "2024-05-08T12:27:24.422804",
     "status": "completed"
    },
    "tags": []
   },
   "outputs": [],
   "source": []
  },
  {
   "cell_type": "markdown",
   "id": "f52321e9-f518-42ac-be62-5429162b4739",
   "metadata": {
    "papermill": {
     "duration": 0.001841,
     "end_time": "2024-05-08T12:27:24.434600",
     "exception": false,
     "start_time": "2024-05-08T12:27:24.432759",
     "status": "completed"
    },
    "tags": []
   },
   "source": [
    "## Visualize the data"
   ]
  },
  {
   "cell_type": "markdown",
   "id": "e959fbe1-3c54-4250-945d-517f4b1ba4d0",
   "metadata": {
    "papermill": {
     "duration": 0.001691,
     "end_time": "2024-05-08T12:27:24.438096",
     "exception": false,
     "start_time": "2024-05-08T12:27:24.436405",
     "status": "completed"
    },
    "tags": []
   },
   "source": [
    "### Bar plot"
   ]
  },
  {
   "cell_type": "markdown",
   "id": "7843acad-11c8-4d4c-9294-249ebf324e9a",
   "metadata": {
    "papermill": {
     "duration": 0.001701,
     "end_time": "2024-05-08T12:27:24.441432",
     "exception": false,
     "start_time": "2024-05-08T12:27:24.439731",
     "status": "completed"
    },
    "tags": []
   },
   "source": [
    "#### Colors"
   ]
  },
  {
   "cell_type": "code",
   "execution_count": null,
   "id": "99fc43f5-e037-4039-b3c0-1afaacea3636",
   "metadata": {
    "execution": {
     "iopub.execute_input": "2024-05-08T12:27:24.445417Z",
     "iopub.status.busy": "2024-05-08T12:27:24.445255Z",
     "iopub.status.idle": "2024-05-08T12:27:24.551629Z",
     "shell.execute_reply": "2024-05-08T12:27:24.551336Z"
    },
    "papermill": {
     "duration": 0.109672,
     "end_time": "2024-05-08T12:27:24.552720",
     "exception": false,
     "start_time": "2024-05-08T12:27:24.443048",
     "status": "completed"
    },
    "tags": []
   },
   "outputs": [],
   "source": []
  },
  {
   "cell_type": "code",
   "execution_count": null,
   "id": "33f422dc-9c6b-4d78-a4c9-04dee13ebf84",
   "metadata": {
    "execution": {
     "iopub.execute_input": "2024-05-08T12:27:24.557544Z",
     "iopub.status.busy": "2024-05-08T12:27:24.557370Z",
     "iopub.status.idle": "2024-05-08T12:27:25.419050Z",
     "shell.execute_reply": "2024-05-08T12:27:25.418750Z"
    },
    "papermill": {
     "duration": 0.865033,
     "end_time": "2024-05-08T12:27:25.419971",
     "exception": false,
     "start_time": "2024-05-08T12:27:24.554938",
     "status": "completed"
    },
    "tags": []
   },
   "outputs": [],
   "source": []
  },
  {
   "cell_type": "markdown",
   "id": "081f4337-9a8c-4c7a-8cbb-dae718f3ee7c",
   "metadata": {
    "papermill": {
     "duration": 0.002359,
     "end_time": "2024-05-08T12:27:25.424827",
     "exception": false,
     "start_time": "2024-05-08T12:27:25.422468",
     "status": "completed"
    },
    "tags": []
   },
   "source": [
    "#### Facets"
   ]
  },
  {
   "cell_type": "code",
   "execution_count": null,
   "id": "a7ec042a-0964-402c-99c5-5a14bc9e2b52",
   "metadata": {
    "execution": {
     "iopub.execute_input": "2024-05-08T12:27:25.429909Z",
     "iopub.status.busy": "2024-05-08T12:27:25.429770Z",
     "iopub.status.idle": "2024-05-08T12:27:25.617307Z",
     "shell.execute_reply": "2024-05-08T12:27:25.617071Z"
    },
    "papermill": {
     "duration": 0.19124,
     "end_time": "2024-05-08T12:27:25.618257",
     "exception": false,
     "start_time": "2024-05-08T12:27:25.427017",
     "status": "completed"
    },
    "tags": []
   },
   "outputs": [],
   "source": []
  },
  {
   "cell_type": "markdown",
   "id": "97702d5d-5cf7-467e-840f-aa60eb20e39c",
   "metadata": {
    "papermill": {
     "duration": 0.003275,
     "end_time": "2024-05-08T12:27:25.624769",
     "exception": false,
     "start_time": "2024-05-08T12:27:25.621494",
     "status": "completed"
    },
    "tags": []
   },
   "source": [
    "### Area plot"
   ]
  },
  {
   "cell_type": "markdown",
   "id": "9d0cfcdd-95f5-43ff-b093-5f5ff75b912d",
   "metadata": {
    "papermill": {
     "duration": 0.003286,
     "end_time": "2024-05-08T12:27:25.631620",
     "exception": false,
     "start_time": "2024-05-08T12:27:25.628334",
     "status": "completed"
    },
    "tags": []
   },
   "source": [
    "#### Colors"
   ]
  },
  {
   "cell_type": "code",
   "execution_count": null,
   "id": "abdea9e5-0f21-4742-945a-6984e87a3e90",
   "metadata": {
    "execution": {
     "iopub.execute_input": "2024-05-08T12:27:25.638253Z",
     "iopub.status.busy": "2024-05-08T12:27:25.638138Z",
     "iopub.status.idle": "2024-05-08T12:27:25.699902Z",
     "shell.execute_reply": "2024-05-08T12:27:25.699669Z"
    },
    "papermill": {
     "duration": 0.065892,
     "end_time": "2024-05-08T12:27:25.700745",
     "exception": false,
     "start_time": "2024-05-08T12:27:25.634853",
     "status": "completed"
    },
    "tags": []
   },
   "outputs": [],
   "source": []
  },
  {
   "cell_type": "markdown",
   "id": "94fab934-64bb-41d2-9d60-fac83075fb4b",
   "metadata": {
    "papermill": {
     "duration": 0.003199,
     "end_time": "2024-05-08T12:27:25.707345",
     "exception": false,
     "start_time": "2024-05-08T12:27:25.704146",
     "status": "completed"
    },
    "tags": []
   },
   "source": [
    "#### Facets"
   ]
  },
  {
   "cell_type": "code",
   "execution_count": null,
   "id": "e35ec90f-7209-4f55-8534-4ec89887bf69",
   "metadata": {
    "execution": {
     "iopub.execute_input": "2024-05-08T12:27:25.714468Z",
     "iopub.status.busy": "2024-05-08T12:27:25.714265Z",
     "iopub.status.idle": "2024-05-08T12:27:25.861397Z",
     "shell.execute_reply": "2024-05-08T12:27:25.861111Z"
    },
    "papermill": {
     "duration": 0.152054,
     "end_time": "2024-05-08T12:27:25.862441",
     "exception": false,
     "start_time": "2024-05-08T12:27:25.710387",
     "status": "completed"
    },
    "tags": []
   },
   "outputs": [],
   "source": []
  },
  {
   "cell_type": "code",
   "execution_count": null,
   "id": "d7f3e0e6-bad3-4ba4-b749-00f1f000a76e",
   "metadata": {
    "papermill": {
     "duration": 0.004396,
     "end_time": "2024-05-08T12:27:25.871670",
     "exception": false,
     "start_time": "2024-05-08T12:27:25.867274",
     "status": "completed"
    },
    "tags": []
   },
   "outputs": [],
   "source": []
  },
  {
   "cell_type": "markdown",
   "id": "140d8500-dcaf-4b4f-b5cf-89bbb79e34ca",
   "metadata": {
    "papermill": {
     "duration": 0.004169,
     "end_time": "2024-05-08T12:27:25.879750",
     "exception": false,
     "start_time": "2024-05-08T12:27:25.875581",
     "status": "completed"
    },
    "tags": []
   },
   "source": [
    "### Line plot"
   ]
  },
  {
   "cell_type": "markdown",
   "id": "018cbac7-ed58-432d-828c-d70076cf89f5",
   "metadata": {
    "papermill": {
     "duration": 0.00402,
     "end_time": "2024-05-08T12:27:25.887958",
     "exception": false,
     "start_time": "2024-05-08T12:27:25.883938",
     "status": "completed"
    },
    "tags": []
   },
   "source": [
    "#### Colors"
   ]
  },
  {
   "cell_type": "code",
   "execution_count": null,
   "id": "6dc693f5-718c-4cfb-b259-07b641c6c360",
   "metadata": {
    "execution": {
     "iopub.execute_input": "2024-05-08T12:27:25.896199Z",
     "iopub.status.busy": "2024-05-08T12:27:25.896079Z",
     "iopub.status.idle": "2024-05-08T12:27:25.942875Z",
     "shell.execute_reply": "2024-05-08T12:27:25.942633Z"
    },
    "papermill": {
     "duration": 0.051856,
     "end_time": "2024-05-08T12:27:25.943615",
     "exception": false,
     "start_time": "2024-05-08T12:27:25.891759",
     "status": "completed"
    },
    "tags": []
   },
   "outputs": [],
   "source": []
  },
  {
   "cell_type": "markdown",
   "id": "cb94d165-0521-4ad0-a56c-ac014a20049a",
   "metadata": {
    "papermill": {
     "duration": 0.004016,
     "end_time": "2024-05-08T12:27:25.951591",
     "exception": false,
     "start_time": "2024-05-08T12:27:25.947575",
     "status": "completed"
    },
    "tags": []
   },
   "source": [
    "#### Facets"
   ]
  },
  {
   "cell_type": "code",
   "execution_count": null,
   "id": "4d00789b-38d4-4d42-84c0-c84e995eea7b",
   "metadata": {
    "execution": {
     "iopub.execute_input": "2024-05-08T12:27:25.960962Z",
     "iopub.status.busy": "2024-05-08T12:27:25.960803Z",
     "iopub.status.idle": "2024-05-08T12:27:26.094012Z",
     "shell.execute_reply": "2024-05-08T12:27:26.093769Z"
    },
    "papermill": {
     "duration": 0.139274,
     "end_time": "2024-05-08T12:27:26.094810",
     "exception": false,
     "start_time": "2024-05-08T12:27:25.955536",
     "status": "completed"
    },
    "tags": []
   },
   "outputs": [],
   "source": []
  }
 ],
 "metadata": {
  "kernelspec": {
   "display_name": "Python 3 (ipykernel)",
   "language": "python",
   "name": "python3"
  },
  "language_info": {
   "codemirror_mode": {
    "name": "ipython",
    "version": 3
   },
   "file_extension": ".py",
   "mimetype": "text/x-python",
   "name": "python",
   "nbconvert_exporter": "python",
   "pygments_lexer": "ipython3",
   "version": "3.12.2"
  },
  "papermill": {
   "default_parameters": {},
   "duration": 5.193451,
   "end_time": "2024-05-08T12:27:26.416998",
   "environment_variables": {},
   "exception": null,
   "input_path": "/Users/sota/Dropbox/2 Business/1 Datons/2 Areas/Courses/ESIOS-API/materials/notebooks/30_Dataviz/32_Prices/B.ipynb",
   "output_path": "/Users/sota/Dropbox/2 Business/1 Datons/2 Areas/Courses/ESIOS-API/materials/notebooks/30_Dataviz/32_Prices/B.ipynb",
   "parameters": {},
   "start_time": "2024-05-08T12:27:21.223547",
   "version": "2.5.0"
  },
  "toc-autonumbering": true,
  "toc-showcode": false,
  "vscode": {
   "interpreter": {
    "hash": "31f2aee4e71d21fbe5cf8b01ff0e069b9275f58929596ceb00d14d90e3e16cd6"
   }
  }
 },
 "nbformat": 4,
 "nbformat_minor": 5
}
